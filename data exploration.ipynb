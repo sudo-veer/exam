{
 "cells": [
  {
   "cell_type": "code",
   "execution_count": null,
   "id": "30b9369b-b23f-47b6-a1af-d0567191da5a",
   "metadata": {},
   "outputs": [],
   "source": [
    "import pandas as pd\n",
    "import seaborn as sb\n",
    "import matplotlib.pyplot as plt\n",
    "import numpy as np"
   ]
  },
  {
   "cell_type": "code",
   "execution_count": null,
   "id": "d6f0de71-c720-4510-9a20-ef0c12885f5b",
   "metadata": {},
   "outputs": [],
   "source": [
    "iris_d = sb.load_dataset(\"iris\")"
   ]
  },
  {
   "cell_type": "code",
   "execution_count": null,
   "id": "150a1267-060e-4af6-8546-05f9e987d855",
   "metadata": {},
   "outputs": [],
   "source": [
    "iris_d.head()\n"
   ]
  },
  {
   "cell_type": "code",
   "execution_count": null,
   "id": "8c19617f-0ac2-45a6-b4f0-fd76df0f4acc",
   "metadata": {},
   "outputs": [],
   "source": [
    "iris_d.tail()"
   ]
  },
  {
   "cell_type": "code",
   "execution_count": null,
   "id": "7c090943-dbe9-45d6-9b2d-9f7dc2902ee0",
   "metadata": {},
   "outputs": [],
   "source": [
    "iris_d.shape"
   ]
  },
  {
   "cell_type": "code",
   "execution_count": null,
   "id": "9f495413-e64f-4163-b196-24a50cc90405",
   "metadata": {},
   "outputs": [],
   "source": [
    "iris_d.info()"
   ]
  },
  {
   "cell_type": "code",
   "execution_count": null,
   "id": "733dc87b-0619-48df-ad0b-22a48aa53099",
   "metadata": {},
   "outputs": [],
   "source": [
    "iris_d['sepal_length'].describe()"
   ]
  },
  {
   "cell_type": "code",
   "execution_count": null,
   "id": "ccda070f-5599-49ba-9452-a2d907090a56",
   "metadata": {},
   "outputs": [],
   "source": [
    "iris_d.describe()"
   ]
  },
  {
   "cell_type": "code",
   "execution_count": null,
   "id": "e1c6dd03-bd90-40a5-a581-e8115eb2c739",
   "metadata": {},
   "outputs": [],
   "source": [
    "iris_d.isnull().sum()"
   ]
  },
  {
   "cell_type": "code",
   "execution_count": null,
   "id": "baf28d81-0b2f-4f5f-b21d-4d250c557572",
   "metadata": {},
   "outputs": [],
   "source": [
    "plt.scatter(iris_d['sepal_length'],iris_d['sepal_width'], color='red')\n",
    "plt.title(\"scatter plot\")\n",
    "plt.xlabel(\"Sepal length\")\n",
    "plt.ylabel(\"Sepal width\")\n",
    "plt.show()"
   ]
  },
  {
   "cell_type": "code",
   "execution_count": null,
   "id": "f1940083-cfd4-4e9b-a5ab-e5c0f1ef3514",
   "metadata": {},
   "outputs": [],
   "source": [
    "plt.hist(iris_d['sepal_width'], bins=40)\n",
    "plt.title(\"Histogram of Sepal Width (40 bins)\")\n",
    "plt.xlabel(\"Sepal Width\")\n",
    "plt.ylabel(\"Frequency\")\n",
    "plt.show()\n"
   ]
  },
  {
   "cell_type": "code",
   "execution_count": null,
   "id": "49798cb0-89e2-4bf4-ae9e-f564af78e655",
   "metadata": {},
   "outputs": [],
   "source": [
    "plt.hist(iris_d['sepal_width'], bins=15)\n",
    "plt.title(\"Histogram of Sepal Width (15 bins)\")\n",
    "plt.xlabel(\"Sepal Width\")\n",
    "plt.ylabel(\"Frequency\")\n",
    "plt.show()\n"
   ]
  },
  {
   "cell_type": "code",
   "execution_count": null,
   "id": "c3bce94f-ba60-45c1-bfdb-17b230a8883f",
   "metadata": {},
   "outputs": [],
   "source": [
    "plt.hist(iris_d['sepal_width'], bins='auto')\n",
    "plt.title(\"Histogram of Sepal Width (Auto bins)\")\n",
    "plt.xlabel(\"Sepal Width\")\n",
    "plt.ylabel(\"Frequency\")\n",
    "plt.show()\n"
   ]
  },
  {
   "cell_type": "code",
   "execution_count": null,
   "id": "1cd6bc39-fc49-4a4b-a3b7-e0435c54fea9",
   "metadata": {},
   "outputs": [],
   "source": [
    "plt.hist(iris_d['petal_width'], bins=40)\n",
    "plt.title(\"Histogram of Petal Width (40 bins)\")\n",
    "plt.xlabel(\"Petal Width\")\n",
    "plt.ylabel(\"Frequency\")\n",
    "plt.show()\n"
   ]
  },
  {
   "cell_type": "code",
   "execution_count": null,
   "id": "a495d797-32e6-4f91-b144-419f2a0fbb93",
   "metadata": {},
   "outputs": [],
   "source": [
    "plt.hist(iris_d['petal_width'], bins=5)\n",
    "plt.title(\"Histogram of Petal Width (5 bins)\")\n",
    "plt.xlabel(\"Petal Width\")\n",
    "plt.ylabel(\"Frequency\")\n",
    "plt.show()\n"
   ]
  },
  {
   "cell_type": "code",
   "execution_count": null,
   "id": "fe0aa7d7-4fd1-4789-b0a6-aa391ace4ec9",
   "metadata": {},
   "outputs": [],
   "source": [
    "sb.boxplot(x=\"sepal_width\", data=iris_d)\n",
    "plt.title(\"Box Plot of Sepal Width\")\n",
    "plt.show()\n"
   ]
  },
  {
   "cell_type": "code",
   "execution_count": null,
   "id": "f8b67e93-f56b-4600-8c79-20a340510161",
   "metadata": {},
   "outputs": [],
   "source": [
    "sb.boxplot(x=\"sepal_length\", data=iris_d)\n",
    "plt.title(\"Box Plot of Sepal Length\")\n",
    "plt.show()\n"
   ]
  },
  {
   "cell_type": "code",
   "execution_count": null,
   "id": "945b93e0-ed48-41eb-bb1d-0b1370be440a",
   "metadata": {},
   "outputs": [],
   "source": [
    "import scipy.stats as stats\n"
   ]
  },
  {
   "cell_type": "code",
   "execution_count": null,
   "id": "2c0a7356-c3a5-4406-9fdc-7603b6d5f178",
   "metadata": {},
   "outputs": [],
   "source": [
    "stats.probplot(iris_d['petal_length'], dist=\"norm\", plot=plt)\n",
    "plt.title(\"Q-Q Plot of Petal Length (Normal Distribution)\")\n",
    "plt.grid(True)\n",
    "plt.show()\n"
   ]
  },
  {
   "cell_type": "code",
   "execution_count": null,
   "id": "d65af0db-f8dc-4513-8ea4-e3a832caecef",
   "metadata": {},
   "outputs": [],
   "source": [
    "stats.probplot(iris_d['sepal_length'], dist=\"norm\", plot=plt)\n",
    "plt.title(\"Q-Q Plot of Sepal Length (Normal Distribution)\")\n",
    "plt.grid(True)\n",
    "plt.show()\n"
   ]
  },
  {
   "cell_type": "code",
   "execution_count": null,
   "id": "b6a41769-1825-4a90-82d4-b32eac7cf49c",
   "metadata": {},
   "outputs": [],
   "source": [
    "stats.probplot(iris_d['petal_length'], dist=\"uniform\", plot=plt)\n",
    "plt.title(\"Q-Q Plot of Petal Length (Uniform Distribution)\")\n",
    "plt.grid(True)\n",
    "plt.show()\n"
   ]
  },
  {
   "cell_type": "code",
   "execution_count": null,
   "id": "d422f65d-366f-4a4b-8683-b64995d2ff78",
   "metadata": {},
   "outputs": [],
   "source": []
  }
 ],
 "metadata": {
  "kernelspec": {
   "display_name": "Python (base)",
   "language": "python",
   "name": "base"
  },
  "language_info": {
   "codemirror_mode": {
    "name": "ipython",
    "version": 3
   },
   "file_extension": ".py",
   "mimetype": "text/x-python",
   "name": "python",
   "nbconvert_exporter": "python",
   "pygments_lexer": "ipython3",
   "version": "3.13.5"
  }
 },
 "nbformat": 4,
 "nbformat_minor": 5
}
