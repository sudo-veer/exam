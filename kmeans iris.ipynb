{
 "cells": [
  {
   "cell_type": "code",
   "execution_count": null,
   "id": "ae0e5577-c248-4562-9b4d-1424a17e1794",
   "metadata": {},
   "outputs": [],
   "source": [
    "# Import necessary libraries\n",
    "import numpy as np\n",
    "import pandas as pd\n",
    "import matplotlib.pyplot as plt\n",
    "from sklearn.datasets import load_iris\n",
    "from sklearn.cluster import KMeans"
   ]
  },
  {
   "cell_type": "code",
   "execution_count": null,
   "id": "3ab5ac4e-41b4-4c71-a9a8-01d6401956a4",
   "metadata": {},
   "outputs": [],
   "source": [
    "# --- 1. Load the Iris dataset ---\n",
    "iris = load_iris()\n",
    "x = pd.DataFrame(iris.data, columns=iris.feature_names)\n",
    "\n",
    "# Display first 5 rows\n",
    "print(\"First 5 rows of Iris dataset:\")\n",
    "print(x.head())\n",
    "\n",
    "# --- 2. Determine optimal number of clusters using Elbow Method ---\n",
    "wcss = []  # Within-cluster sum of squares\n",
    "\n",
    "for i in range(1, 11):\n",
    "    kmeans = KMeans(n_clusters=i, init='k-means++', random_state=42)\n",
    "    kmeans.fit(x)\n",
    "    wcss.append(kmeans.inertia_)\n",
    "\n",
    "# Plot the Elbow graph\n",
    "plt.figure(figsize=(8,5))\n",
    "plt.plot(range(1, 11), wcss, marker='o')\n",
    "plt.title('Elbow Method')\n",
    "plt.xlabel('Number of clusters')\n",
    "plt.ylabel('WCSS')\n",
    "plt.show()"
   ]
  },
  {
   "cell_type": "code",
   "execution_count": null,
   "id": "918c36b3-fd67-4705-a60d-b39bc2a483b7",
   "metadata": {},
   "outputs": [],
   "source": [
    "# --- 3. Fit K-Means with optimal clusters (k=3) ---\n",
    "kmeans = KMeans(n_clusters=3, init='k-means++', random_state=42)\n",
    "y_kmeans = kmeans.fit_predict(x)"
   ]
  },
  {
   "cell_type": "code",
   "execution_count": null,
   "id": "6c125159-f727-427f-991a-ca46c348a8eb",
   "metadata": {},
   "outputs": [],
   "source": [
    "# --- 4. Visualize clusters (using first two features: Sepal Length & Sepal Width) ---\n",
    "plt.figure(figsize=(8,5))\n",
    "plt.scatter(x.iloc[y_kmeans == 0, 0], x.iloc[y_kmeans == 0, 1], s=100, c='red', label='Cluster 1 (Iris-setosa)')\n",
    "plt.scatter(x.iloc[y_kmeans == 1, 0], x.iloc[y_kmeans == 1, 1], s=100, c='blue', label='Cluster 2 (Iris-versicolour)')\n",
    "plt.scatter(x.iloc[y_kmeans == 2, 0], x.iloc[y_kmeans == 2, 1], s=100, c='green', label='Cluster 3 (Iris-virginica)')"
   ]
  },
  {
   "cell_type": "code",
   "execution_count": null,
   "id": "af64c3a7-1fcf-4582-808e-5667f75f7f24",
   "metadata": {},
   "outputs": [],
   "source": [
    "# Plot centroids\n",
    "plt.scatter(kmeans.cluster_centers_[:, 0], kmeans.cluster_centers_[:, 1], s=200, c='yellow', label='Centroids', marker='X')\n",
    "plt.title('Clusters of Iris Flowers')\n",
    "plt.xlabel('Sepal Length')\n",
    "plt.ylabel('Sepal Width')\n",
    "plt.legend()\n",
    "plt.show()"
   ]
  },
  {
   "cell_type": "code",
   "execution_count": null,
   "id": "579a0ef8-7fe9-470f-89fa-aad5308d039f",
   "metadata": {},
   "outputs": [],
   "source": [
    "# --- 5. Conclusion ---\n",
    "print(\"K-Means clustering has grouped the Iris dataset into 3 clusters corresponding closely to the actual species.\")\n",
    "print(\"The Elbow method confirmed that 3 clusters are optimal.\")"
   ]
  }
 ],
 "metadata": {
  "kernelspec": {
   "display_name": "Python (base)",
   "language": "python",
   "name": "base"
  },
  "language_info": {
   "codemirror_mode": {
    "name": "ipython",
    "version": 3
   },
   "file_extension": ".py",
   "mimetype": "text/x-python",
   "name": "python",
   "nbconvert_exporter": "python",
   "pygments_lexer": "ipython3",
   "version": "3.13.5"
  }
 },
 "nbformat": 4,
 "nbformat_minor": 5
}
