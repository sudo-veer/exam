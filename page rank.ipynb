{
 "cells": [
  {
   "cell_type": "code",
   "execution_count": null,
   "id": "91c069ed-28fa-436f-b602-18767b4d44f2",
   "metadata": {},
   "outputs": [],
   "source": [
    "import numpy as np\n"
   ]
  },
  {
   "cell_type": "code",
   "execution_count": null,
   "id": "214b3913-93f3-426a-9f66-671513530cfb",
   "metadata": {},
   "outputs": [],
   "source": [
    "links = np.array([\n",
    "    [0, 1, 1, 0],  # A -> B, C\n",
    "    [0, 0, 1, 0],  # B -> C\n",
    "    [1, 0, 0, 1],  # C -> A, D\n",
    "    [0, 0, 1, 0]   # D -> C\n",
    "])"
   ]
  },
  {
   "cell_type": "code",
   "execution_count": null,
   "id": "426d3484-0cd2-4ae5-943a-5ca16a5414b3",
   "metadata": {},
   "outputs": [],
   "source": [
    "n = len(links)\n",
    "damping_factor = 0.85 \n",
    "tolerance = 0.0001\n",
    "max_iter = 100\n"
   ]
  },
  {
   "cell_type": "code",
   "execution_count": null,
   "id": "76535cac-b2c8-407c-bf60-73e65475b048",
   "metadata": {},
   "outputs": [],
   "source": [
    "outgoing_links = links.sum(axis=1)\n"
   ]
  },
  {
   "cell_type": "code",
   "execution_count": null,
   "id": "5984a776-c31e-4396-a2fd-110ba70cf8ee",
   "metadata": {},
   "outputs": [],
   "source": [
    "for i in range(n):\n",
    "    if outgoing_links[i] != 0:\n",
    "        links[i] = links[i] / outgoing_links[i]"
   ]
  },
  {
   "cell_type": "code",
   "execution_count": null,
   "id": "98627c8a-4fe0-460a-80f3-0b592772a93e",
   "metadata": {},
   "outputs": [],
   "source": [
    "PR = np.ones(n) / n\n"
   ]
  },
  {
   "cell_type": "code",
   "execution_count": null,
   "id": "2ce27a51-0bf1-49ec-a391-cca5ce1b2850",
   "metadata": {},
   "outputs": [],
   "source": [
    "for _ in range(max_iter):\n",
    "    new_PR = (1 - damping_factor) / n + damping_factor * np.dot(links.T, PR)\n",
    "    if np.linalg.norm(new_PR - PR, ord=1) < tolerance:\n",
    "        break\n",
    "    PR = new_PR"
   ]
  },
  {
   "cell_type": "code",
   "execution_count": null,
   "id": "de051e4d-b38e-44eb-941f-cf7e0a51bf88",
   "metadata": {},
   "outputs": [],
   "source": [
    "pages = ['A', 'B', 'C', 'D']\n",
    "print(\"Final Page Rank Values:\\n\")\n",
    "for i in range(n):\n",
    "    print(f\"Page {pages[i]}: {PR[i]:.4f}\")\n"
   ]
  },
  {
   "cell_type": "code",
   "execution_count": null,
   "id": "d92b7333-6813-438e-9347-d56c435343ca",
   "metadata": {},
   "outputs": [],
   "source": []
  }
 ],
 "metadata": {
  "kernelspec": {
   "display_name": "Python (base)",
   "language": "python",
   "name": "base"
  },
  "language_info": {
   "codemirror_mode": {
    "name": "ipython",
    "version": 3
   },
   "file_extension": ".py",
   "mimetype": "text/x-python",
   "name": "python",
   "nbconvert_exporter": "python",
   "pygments_lexer": "ipython3",
   "version": "3.13.5"
  }
 },
 "nbformat": 4,
 "nbformat_minor": 5
}
