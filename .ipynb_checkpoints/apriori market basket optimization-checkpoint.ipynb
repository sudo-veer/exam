{
 "cells": [
  {
   "cell_type": "code",
   "execution_count": null,
   "id": "94d8b76a-bc11-4bd1-ad89-2d37d0c9dcf2",
   "metadata": {},
   "outputs": [],
   "source": [
    "import numpy as np\n",
    "import matplotlib.pyplot as plt\n",
    "import pandas as pd"
   ]
  },
  {
   "cell_type": "code",
   "execution_count": null,
   "id": "ad32237a-ba4d-4a63-b176-b0c8b6244a82",
   "metadata": {},
   "outputs": [],
   "source": [
    "dataset = pd.read_csv('Market_Basket_Optimisation.csv', header = None)\n",
    "transactions = []\n",
    "for i in range(0, 7501):\n",
    "  transactions.append([str(dataset.values[i,j]) for j in range(0, 20)])"
   ]
  },
  {
   "cell_type": "code",
   "execution_count": null,
   "id": "4969b128-9cee-4cfe-a45d-5f348a3c88b5",
   "metadata": {},
   "outputs": [],
   "source": [
    "dataset"
   ]
  },
  {
   "cell_type": "code",
   "execution_count": null,
   "id": "30a9f517-d28b-4fba-bf7e-33b64588419d",
   "metadata": {},
   "outputs": [],
   "source": [
    "transactions"
   ]
  },
  {
   "cell_type": "code",
   "execution_count": null,
   "id": "29f9a4de-3551-47ac-beac-b964d478fdcb",
   "metadata": {},
   "outputs": [],
   "source": [
    "!pip install apyori"
   ]
  },
  {
   "cell_type": "code",
   "execution_count": null,
   "id": "74fcd23f-108d-4a4c-a6da-04f85d783b43",
   "metadata": {},
   "outputs": [],
   "source": [
    "from apyori import apriori\n",
    "rules = apriori(transactions = transactions, min_support = 0.003, min_confidence = 0.2)"
   ]
  },
  {
   "cell_type": "code",
   "execution_count": null,
   "id": "035ffed7-0db0-41ad-b05b-e47276d11db2",
   "metadata": {},
   "outputs": [],
   "source": [
    "results = list(rules)"
   ]
  },
  {
   "cell_type": "code",
   "execution_count": null,
   "id": "92b5cbe0-d736-4d50-8a1b-a681af33ad01",
   "metadata": {},
   "outputs": [],
   "source": [
    "results"
   ]
  }
 ],
 "metadata": {
  "kernelspec": {
   "display_name": "Python (base)",
   "language": "python",
   "name": "base"
  },
  "language_info": {
   "codemirror_mode": {
    "name": "ipython",
    "version": 3
   },
   "file_extension": ".py",
   "mimetype": "text/x-python",
   "name": "python",
   "nbconvert_exporter": "python",
   "pygments_lexer": "ipython3",
   "version": "3.13.5"
  }
 },
 "nbformat": 4,
 "nbformat_minor": 5
}
