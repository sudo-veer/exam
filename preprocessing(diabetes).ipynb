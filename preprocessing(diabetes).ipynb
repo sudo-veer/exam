{
 "cells": [
  {
   "cell_type": "code",
   "execution_count": null,
   "id": "58fe8a7d-da63-4c28-9fad-83d7cc93d8b5",
   "metadata": {},
   "outputs": [],
   "source": [
    "import pandas as pd\n",
    "import numpy as np\n",
    "from sklearn.preprocessing import StandardScaler\n",
    "from sklearn.model_selection import train_test_split\n"
   ]
  },
  {
   "cell_type": "code",
   "execution_count": null,
   "id": "22e10aad-9d31-43ca-9f56-b39e4e340b42",
   "metadata": {},
   "outputs": [],
   "source": [
    "dataset=pd.read_csv('dataset/diabetes.csv')\n",
    "print(\"dataset is loaded succcessfully\")"
   ]
  },
  {
   "cell_type": "code",
   "execution_count": null,
   "id": "97fc5d21-e25e-49ef-af3a-170794a548dd",
   "metadata": {},
   "outputs": [],
   "source": [
    "print(dataset.describe())"
   ]
  },
  {
   "cell_type": "code",
   "execution_count": null,
   "id": "b684c0cb-1c82-49c5-a909-f6933e6d0ae7",
   "metadata": {},
   "outputs": [],
   "source": [
    "print(\"\\nMissing values per column:\\n\", dataset.isnull().sum())"
   ]
  },
  {
   "cell_type": "code",
   "execution_count": null,
   "id": "03e2f195-1e86-4d87-b7ec-474924324542",
   "metadata": {},
   "outputs": [],
   "source": [
    "cols_to_clean = ['Glucose', 'BloodPressure', 'SkinThickness', 'Insulin', 'BMI']\n",
    "for col in cols_to_clean:\n",
    "    dataset[col]=dataset[col].replace(0,np.nan)\n",
    "print(\"remove the 0 values\")    "
   ]
  },
  {
   "cell_type": "code",
   "execution_count": null,
   "id": "1daaa92a-adbc-4ce0-bb5f-686764a88253",
   "metadata": {},
   "outputs": [],
   "source": [
    "for col in cols_to_clean:\n",
    "    dataset[col].fillna(dataset[col].mean())"
   ]
  },
  {
   "cell_type": "code",
   "execution_count": null,
   "id": "345d1e16-65c9-4904-abf0-466292d9570a",
   "metadata": {},
   "outputs": [],
   "source": [
    "print(dataset.describe())"
   ]
  },
  {
   "cell_type": "code",
   "execution_count": null,
   "id": "5efc2c87-a82a-4911-966b-81812b1e1ce6",
   "metadata": {},
   "outputs": [],
   "source": [
    "print(\"duplicates:\" , dataset.duplicated().sum())"
   ]
  },
  {
   "cell_type": "code",
   "execution_count": null,
   "id": "a6f97525-18b9-441e-9c59-2ce2bbb28c82",
   "metadata": {},
   "outputs": [],
   "source": [
    "numeric_cols = dataset.columns[:-1]  # Exclude label\n",
    "for col in numeric_cols:\n",
    "    Q1 = dataset[col].quantile(0.25)\n",
    "    Q3 = dataset[col].quantile(0.75)\n",
    "    IQR = Q3 - Q1\n",
    "    lower = Q1 - 1.5 * IQR\n",
    "    upper = Q3 + 1.5 * IQR\n",
    "    dataset[col] = np.where(dataset[col] < lower, lower, dataset[col])\n",
    "    dataset[col] = np.where(dataset[col] > upper, upper, dataset[col])"
   ]
  },
  {
   "cell_type": "code",
   "execution_count": null,
   "id": "d6a171ef-4347-45b8-8223-bb0d79cd729e",
   "metadata": {},
   "outputs": [],
   "source": [
    "x = dataset.iloc[:,:-1]\n",
    "y = dataset.iloc[:,:-1]\n",
    "sc = StandardScaler()\n",
    "xscaled = sc.fit_transform(x)"
   ]
  },
  {
   "cell_type": "code",
   "execution_count": null,
   "id": "1c360102-57ce-4062-9eda-88fedb0fd28b",
   "metadata": {},
   "outputs": [],
   "source": [
    "scaled_df = pd.DataFrame(xscaled , columns = dataset.columns[:-1])\n",
    "print(scaled_df.head())"
   ]
  },
  {
   "cell_type": "code",
   "execution_count": null,
   "id": "a9b5e89f-220e-42c2-b786-1a39d1f82a4b",
   "metadata": {},
   "outputs": [],
   "source": [
    "X_train, X_test, y_train, y_test = train_test_split(xscaled, y, test_size=0.2, random_state=42)\n",
    "print(\"Training set shape:\", X_train.shape)\n",
    "print(\"Test set shape:\", X_test.shape)\n"
   ]
  },
  {
   "cell_type": "code",
   "execution_count": null,
   "id": "fa80d1f0-60ec-4202-ab95-ee28c091d80c",
   "metadata": {},
   "outputs": [],
   "source": []
  },
  {
   "cell_type": "code",
   "execution_count": null,
   "id": "34283d7c-15db-4a00-b357-b42f27bb8dac",
   "metadata": {},
   "outputs": [],
   "source": []
  },
  {
   "cell_type": "code",
   "execution_count": null,
   "id": "b40fe759-8009-422f-8bcb-1f44ed52995a",
   "metadata": {},
   "outputs": [],
   "source": []
  },
  {
   "cell_type": "code",
   "execution_count": null,
   "id": "4d2e5043-124b-4c11-b2dc-b671d88ddb5c",
   "metadata": {},
   "outputs": [],
   "source": []
  }
 ],
 "metadata": {
  "kernelspec": {
   "display_name": "Python (base)",
   "language": "python",
   "name": "base"
  },
  "language_info": {
   "codemirror_mode": {
    "name": "ipython",
    "version": 3
   },
   "file_extension": ".py",
   "mimetype": "text/x-python",
   "name": "python",
   "nbconvert_exporter": "python",
   "pygments_lexer": "ipython3",
   "version": "3.13.5"
  }
 },
 "nbformat": 4,
 "nbformat_minor": 5
}
